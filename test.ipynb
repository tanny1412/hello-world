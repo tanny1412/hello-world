{
    "cells": [
        {
            "metadata": {
                "collapsed": true
            },
            "cell_type": "code",
            "source": "\n# @hidden_cell\n# The following code contains the credentials for a file in your IBM Cloud Object Storage.\n# You might want to remove those credentials before you share your notebook.\ncredentials_3 = {\n    'IAM_SERVICE_ID': 'iam-ServiceId-0e3316b1-4928-4899-9613-bc84ed026123',\n    'IBM_API_KEY_ID': 'DIKQou0xy3gPf9N9HKLuF8mNgHLiSnaJcQKE_3ihZ5_f',\n    'ENDPOINT': 'https://s3-api.us-geo.objectstorage.service.networklayer.com',\n    'IBM_AUTH_ENDPOINT': 'https://iam.cloud.ibm.com/oidc/token',\n    'BUCKET': 'prescriptionanalysis-donotdelete-pr-ley9ciny1ledx7',\n    'FILE': 'CA1.pdf'\n}\n# @hidden_cell\n# The following code contains the credentials for a file in your IBM Cloud Object Storage.\n# You might want to remove those credentials before you share your notebook.\ncredentials_2 = {\n    'IAM_SERVICE_ID': 'iam-ServiceId-0e3316b1-4928-4899-9613-bc84ed026123',\n    'IBM_API_KEY_ID': 'DIKQou0xy3gPf9N9HKLuF8mNgHLiSnaJcQKE_3ihZ5_f',\n    'ENDPOINT': 'https://s3-api.us-geo.objectstorage.service.networklayer.com',\n    'IBM_AUTH_ENDPOINT': 'https://iam.cloud.ibm.com/oidc/token',\n    'BUCKET': 'prescriptionanalysis-donotdelete-pr-ley9ciny1ledx7',\n    'FILE': 'CA1.pdf'\n}\n# @hidden_cell\n# The following code contains the credentials for a file in your IBM Cloud Object Storage.\n# You might want to remove those credentials before you share your notebook.\ncredentials_1 = {\n    'IAM_SERVICE_ID': 'iam-ServiceId-0e3316b1-4928-4899-9613-bc84ed026123',\n    'IBM_API_KEY_ID': 'DIKQou0xy3gPf9N9HKLuF8mNgHLiSnaJcQKE_3ihZ5_f',\n    'ENDPOINT': 'https://s3-api.us-geo.objectstorage.service.networklayer.com',\n    'IBM_AUTH_ENDPOINT': 'https://iam.cloud.ibm.com/oidc/token',\n    'BUCKET': 'prescriptionanalysis-donotdelete-pr-ley9ciny1ledx7',\n    'FILE': 'CA1.pdf'\n}",
            "execution_count": null,
            "outputs": []
        }
    ],
    "metadata": {
        "kernelspec": {
            "name": "python3",
            "display_name": "Python 3.6",
            "language": "python"
        },
        "language_info": {
            "name": "python",
            "version": "3.6.9",
            "mimetype": "text/x-python",
            "codemirror_mode": {
                "name": "ipython",
                "version": 3
            },
            "pygments_lexer": "ipython3",
            "nbconvert_exporter": "python",
            "file_extension": ".py"
        }
    },
    "nbformat": 4,
    "nbformat_minor": 1
}